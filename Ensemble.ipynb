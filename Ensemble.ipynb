{
 "cells": [
  {
   "cell_type": "code",
   "execution_count": 1,
   "metadata": {
    "collapsed": true,
    "ExecuteTime": {
     "end_time": "2023-06-20T09:56:21.494005500Z",
     "start_time": "2023-06-20T09:56:20.652564600Z"
    }
   },
   "outputs": [],
   "source": [
    "import pandas as pd\n",
    "import numpy as np\n",
    "from sklearn.ensemble import RandomForestClassifier\n",
    "from xgboost import XGBClassifier\n",
    "import torch\n",
    "import torch.nn as nn\n",
    "import torch.optim as optim\n",
    "from torch.utils.data import Dataset, DataLoader"
   ]
  },
  {
   "cell_type": "code",
   "execution_count": 2,
   "outputs": [],
   "source": [
    "#Load data\n",
    "train_data = pd.read_csv('train.csv')\n",
    "test_data = pd.read_csv('test.csv')"
   ],
   "metadata": {
    "collapsed": false,
    "ExecuteTime": {
     "end_time": "2023-06-20T09:56:21.667013Z",
     "start_time": "2023-06-20T09:56:21.495005300Z"
    }
   }
  },
  {
   "cell_type": "code",
   "execution_count": 3,
   "outputs": [],
   "source": [
    "#Extract features and labels\n",
    "X = train_data.drop(columns=['id', 'label'])\n",
    "y = train_data['label']\n",
    "test_X = test_data.drop(columns=['id'])\n",
    "training_dataset = train_data.drop(['id'],axis=1,inplace=False)\n",
    "test_dataset = test_data.drop(['id'],axis=1,inplace=False)"
   ],
   "metadata": {
    "collapsed": false,
    "ExecuteTime": {
     "end_time": "2023-06-20T09:56:21.683090400Z",
     "start_time": "2023-06-20T09:56:21.668012800Z"
    }
   }
  },
  {
   "cell_type": "code",
   "execution_count": 4,
   "outputs": [],
   "source": [
    "#Classifier List\n",
    "classifiers = [\n",
    "     XGBClassifier(learning_rate=0.3,n_estimators=200,max_depth=7,min_child_weight=13,gamma=0,subsample=0.8,colsample_bytree=0.8,objective='binary:logistic',nthread=8,scale_pos_weight=1,eval_metric='auc'),\n",
    "    RandomForestClassifier(n_estimators=200, max_depth=50, min_samples_split=10, min_samples_leaf=1,n_jobs=8)\n",
    "]"
   ],
   "metadata": {
    "collapsed": false,
    "ExecuteTime": {
     "end_time": "2023-06-20T09:56:21.699090Z",
     "start_time": "2023-06-20T09:56:21.684088400Z"
    }
   }
  },
  {
   "cell_type": "code",
   "execution_count": 5,
   "outputs": [],
   "source": [
    "#mlp\n",
    "class MLPClassifier(nn.Module):\n",
    "    def __init__(self, input_size, hidden_size, output_size):\n",
    "            super(MLPClassifier, self).__init__()\n",
    "            self.input = nn.Sequential(\n",
    "                nn.Embedding(input_size, hidden_size),\n",
    "            )\n",
    "            self.hidden = nn.Sequential(\n",
    "                nn.Dropout(0.2),\n",
    "                nn.Linear(hidden_size, hidden_size),\n",
    "                nn.BatchNorm1d(hidden_size),\n",
    "                nn.ReLU(),\n",
    "                nn.Linear(hidden_size, hidden_size // 2),\n",
    "                nn.ReLU()\n",
    "            )\n",
    "\n",
    "            self.output = nn.Sequential(\n",
    "                nn.Linear(hidden_size, hidden_size),\n",
    "                nn.BatchNorm1d(hidden_size),\n",
    "                nn.ReLU(),\n",
    "                nn.Linear(hidden_size, output_size),\n",
    "                nn.Sigmoid()\n",
    "            )\n",
    "\n",
    "    def forward(self, data1, data2):\n",
    "        data1 = self.hidden(self.input(data1))\n",
    "        data2 = self.hidden(self.input(data2))\n",
    "        data = torch.cat((data1, data2), dim=1)\n",
    "        label = self.output(data).squeeze()\n",
    "        return label"
   ],
   "metadata": {
    "collapsed": false,
    "ExecuteTime": {
     "end_time": "2023-06-20T09:56:21.713129600Z",
     "start_time": "2023-06-20T09:56:21.702052300Z"
    }
   }
  },
  {
   "cell_type": "code",
   "execution_count": 6,
   "outputs": [],
   "source": [
    "# pytorch data\n",
    "class NodeDataset(Dataset):\n",
    "    def __init__(self, data):\n",
    "        self.data = data\n",
    "\n",
    "    def __len__(self):\n",
    "        return len(self.data)\n",
    "\n",
    "    def __getitem__(self, index):\n",
    "        data1 = self.data.iloc[index]['id1']\n",
    "        data2 = self.data.iloc[index]['id2']\n",
    "        label = self.data.iloc[index]['label']\n",
    "        return data1,data2,label"
   ],
   "metadata": {
    "collapsed": false,
    "ExecuteTime": {
     "end_time": "2023-06-20T09:56:21.730208900Z",
     "start_time": "2023-06-20T09:56:21.715126500Z"
    }
   }
  },
  {
   "cell_type": "code",
   "execution_count": 7,
   "outputs": [],
   "source": [
    "# Create a data loader\n",
    "batch_size = 2048\n",
    "train_dataloader = DataLoader(NodeDataset(training_dataset), batch_size=batch_size, shuffle=True)\n",
    "#Set network parameters\n",
    "input_size = training_dataset.shape[0]\n",
    "hidden_size = 128\n",
    "output_size = 1"
   ],
   "metadata": {
    "collapsed": false,
    "ExecuteTime": {
     "end_time": "2023-06-20T09:56:21.760287600Z",
     "start_time": "2023-06-20T09:56:21.731208800Z"
    }
   }
  },
  {
   "cell_type": "code",
   "execution_count": null,
   "outputs": [],
   "source": [
    "#gpu\n",
    "device = torch.device(\"cuda:0\" if torch.cuda.is_available() else \"cpu\")\n",
    "device"
   ],
   "metadata": {
    "collapsed": false
   }
  },
  {
   "cell_type": "code",
   "execution_count": 9,
   "outputs": [],
   "source": [
    "# mlp\n",
    "mlp_clf = MLPClassifier(input_size, hidden_size, output_size).to(device)\n",
    "# loss and adam\n",
    "criterion = nn.BCELoss()\n",
    "optimizer = optim.Adam(mlp_clf.parameters(), lr=0.001)"
   ],
   "metadata": {
    "collapsed": false,
    "ExecuteTime": {
     "end_time": "2023-06-20T09:56:22.331379400Z",
     "start_time": "2023-06-20T09:56:21.777542800Z"
    }
   }
  },
  {
   "cell_type": "code",
   "execution_count": null,
   "outputs": [],
   "source": [
    "# train mlp\n",
    "num_epochs = 10\n",
    "mlp_clf.train()\n",
    "for epoch in range(num_epochs):\n",
    "    for i, (data1, data2, labels) in enumerate(train_dataloader):\n",
    "        data1 = data1.to(device)\n",
    "        data2 = data2.to(device)\n",
    "        labels = labels.to(device)\n",
    "\n",
    "        optimizer.zero_grad()\n",
    "\n",
    "        outputs = mlp_clf(data1,data2)\n",
    "        loss = criterion(outputs , labels.float())\n",
    "        loss.backward()\n",
    "        optimizer.step()\n",
    "        if i % 10 == 0:\n",
    "            print('Epoch [{}/{}], Step [{}/{}], Loss: {:.10f}'\n",
    "                  .format(epoch+1, num_epochs, i*len(data1), len(train_dataloader.dataset),loss.item()))"
   ],
   "metadata": {
    "collapsed": false
   }
  },
  {
   "cell_type": "code",
   "execution_count": 11,
   "outputs": [],
   "source": [
    "class NodeTestset(Dataset):\n",
    "    def __init__(self, data):\n",
    "        self.data = data\n",
    "\n",
    "    def __len__(self):\n",
    "        return len(self.data)\n",
    "\n",
    "    def __getitem__(self, index):\n",
    "        data1 = self.data.iloc[index]['id1']\n",
    "        data2 = self.data.iloc[index]['id2']\n",
    "        return data1,data2\n",
    "test_dataloader = DataLoader(NodeTestset(test_dataset), batch_size=batch_size, shuffle=False)"
   ],
   "metadata": {
    "collapsed": false,
    "ExecuteTime": {
     "end_time": "2023-06-20T10:03:32.414444400Z",
     "start_time": "2023-06-20T10:03:32.396851300Z"
    }
   }
  },
  {
   "cell_type": "code",
   "execution_count": 12,
   "outputs": [],
   "source": [
    "#mlp pred\n",
    "mlp_clf.eval()\n",
    "y_pred_list = []\n",
    "with torch.no_grad():\n",
    "    for i, (data1, data2) in enumerate(test_dataloader):\n",
    "        data1 = data1.to(device)\n",
    "        data2 = data2.to(device)\n",
    "        output = mlp_clf(data1, data2)\n",
    "        output = torch.round(output)\n",
    "        y_pred_list += output.tolist()"
   ],
   "metadata": {
    "collapsed": false,
    "ExecuteTime": {
     "end_time": "2023-06-20T10:03:38.953609700Z",
     "start_time": "2023-06-20T10:03:32.413444600Z"
    }
   }
  },
  {
   "cell_type": "code",
   "execution_count": null,
   "outputs": [],
   "source": [
    "#train xgb and rf\n",
    "for idx, classifier in enumerate(classifiers):\n",
    "        print(f'train {str(classifier)}')\n",
    "        classifier.fit(X, y)"
   ],
   "metadata": {
    "collapsed": false
   }
  },
  {
   "cell_type": "code",
   "execution_count": 14,
   "outputs": [],
   "source": [
    "all_val_preds = []\n",
    "weights = [0.4, 0.2, 0.4]\n",
    "for idx, classifier in enumerate(classifiers):\n",
    "    y_val_pred = classifier.predict(test_X)\n",
    "    all_val_preds.append(y_val_pred)\n",
    "all_val_preds.append(y_pred_list)\n",
    "#stack preds\n",
    "stacked_val_preds = np.column_stack(all_val_preds)\n",
    "weighted_votes = np.zeros_like(stacked_val_preds, dtype=float)\n",
    "for col_idx, weight in enumerate(weights):\n",
    "    weighted_votes[:, col_idx] = stacked_val_preds[:, col_idx] * weight\n",
    "weighted_sum = np.sum(weighted_votes, axis=1) / np.sum(weights)  # Devide by sum of weights as we are not using already normalized weights"
   ],
   "metadata": {
    "collapsed": false,
    "ExecuteTime": {
     "end_time": "2023-06-20T10:04:59.088833300Z",
     "start_time": "2023-06-20T10:04:57.937209500Z"
    }
   }
  },
  {
   "cell_type": "code",
   "execution_count": 15,
   "outputs": [],
   "source": [
    "threshold = 0.5\n",
    "test_weighted_vote = np.where(weighted_sum > threshold, 1, 0)\n",
    "# finally pred\n",
    "test_data['label'] = test_weighted_vote.astype(int)\n",
    "test_final = test_data.drop(columns=['id1','id2'])"
   ],
   "metadata": {
    "collapsed": false,
    "ExecuteTime": {
     "end_time": "2023-06-20T10:04:59.104825300Z",
     "start_time": "2023-06-20T10:04:59.089833500Z"
    }
   }
  },
  {
   "cell_type": "code",
   "execution_count": 16,
   "outputs": [],
   "source": [
    "#save pred\n",
    "test_final.to_csv('submission.csv', index=False)"
   ],
   "metadata": {
    "collapsed": false,
    "ExecuteTime": {
     "end_time": "2023-06-20T10:04:59.246465400Z",
     "start_time": "2023-06-20T10:04:59.105825Z"
    }
   }
  },
  {
   "cell_type": "code",
   "execution_count": 16,
   "outputs": [],
   "source": [],
   "metadata": {
    "collapsed": false,
    "ExecuteTime": {
     "end_time": "2023-06-20T10:04:59.261876300Z",
     "start_time": "2023-06-20T10:04:59.246465400Z"
    }
   }
  }
 ],
 "metadata": {
  "kernelspec": {
   "display_name": "Python 3",
   "language": "python",
   "name": "python3"
  },
  "language_info": {
   "codemirror_mode": {
    "name": "ipython",
    "version": 2
   },
   "file_extension": ".py",
   "mimetype": "text/x-python",
   "name": "python",
   "nbconvert_exporter": "python",
   "pygments_lexer": "ipython2",
   "version": "2.7.6"
  }
 },
 "nbformat": 4,
 "nbformat_minor": 0
}
